{
 "cells": [
  {
   "cell_type": "markdown",
   "metadata": {},
   "source": [
    "Problem-1:\n",
    "\n",
    "Write a program which will find all such numbers which are divisible by 7 but are not a \n",
    "multiple of 5, between 2000 and 3200 (both included). The numbers obtained should be printed\n",
    "in a comma-separated sequence on a single line."
   ]
  },
  {
   "cell_type": "code",
   "execution_count": null,
   "metadata": {},
   "outputs": [],
   "source": [
    "l=[]\n",
    "for i in range(2000-1,3200+1,1):\n",
    "    if i%7==0 and i%5!=0:\n",
    "        l.append(i)\n",
    "print(l)"
   ]
  },
  {
   "cell_type": "code",
   "execution_count": null,
   "metadata": {},
   "outputs": [],
   "source": [
    "# or using list comprehension method\n",
    "\n",
    "l=[i for i in range(2000-1,3200+1,1) if i%7==0 and i%5!=0]\n",
    "print(l)"
   ]
  },
  {
   "cell_type": "markdown",
   "metadata": {},
   "source": [
    "Problem-2:\n",
    "\n",
    "Write a Python program to accept the user's first and last name and then getting them\n",
    "printed in the the reverse order with a space between first name and last name."
   ]
  },
  {
   "cell_type": "code",
   "execution_count": null,
   "metadata": {},
   "outputs": [],
   "source": [
    "FN = input(\"Enter your First name: \")\n",
    "LN = input(\"Enter your Last name: \")\n",
    "print('{} {}'.format(LN[::-1],FN[::-1]))\n",
    "# Confused with the input statement, reversing the string or only reversing the 1st and 2nd name order. \n",
    "# So below line is for only reversing the first and the last name order.\n",
    "print('{1} {0}'.format(FN,LN))"
   ]
  },
  {
   "cell_type": "markdown",
   "metadata": {},
   "source": [
    "Problem-3:\n",
    "\n",
    "Write a Python program to find the volume of a sphere with diameter 12 cm.\n",
    "Formula: V=4/3 * π * r^3\n"
   ]
  },
  {
   "cell_type": "code",
   "execution_count": null,
   "metadata": {},
   "outputs": [],
   "source": [
    "# without importing Math library\n",
    "d = 12\n",
    "pi = 22/7\n",
    "V = 4/3*pi*(d/2)**3\n",
    "print(\"Volume of the sphere is {:.2f} cubic cm\".format(V))"
   ]
  },
  {
   "cell_type": "code",
   "execution_count": null,
   "metadata": {},
   "outputs": [],
   "source": [
    "# using Math library\n",
    "import math\n",
    "d = 12\n",
    "v=4/3*math.pi*(d/2)**3\n",
    "print(\"Volume of the sphere is {:.2f} cubic cm\".format(v))"
   ]
  }
 ],
 "metadata": {
  "kernelspec": {
   "display_name": "Python 3",
   "language": "python",
   "name": "python3"
  },
  "language_info": {
   "codemirror_mode": {
    "name": "ipython",
    "version": 3
   },
   "file_extension": ".py",
   "mimetype": "text/x-python",
   "name": "python",
   "nbconvert_exporter": "python",
   "pygments_lexer": "ipython3",
   "version": "3.8.5"
  }
 },
 "nbformat": 4,
 "nbformat_minor": 4
}
