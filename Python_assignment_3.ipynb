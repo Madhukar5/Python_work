{
 "cells": [
  {
   "cell_type": "markdown",
   "metadata": {},
   "source": [
    "Problem 1.1:\n",
    "\n",
    "Write a Python Program to implement your own myreduce() function which works exactly like Python's built-in function reduce()"
   ]
  },
  {
   "cell_type": "code",
   "execution_count": null,
   "metadata": {},
   "outputs": [],
   "source": [
    "# Own reduce funtion\n",
    "def myreduce(func,row):\n",
    "    acc = row[0]\n",
    "    for i in row[1:]:\n",
    "        acc = func(acc , i)\n",
    "    return acc"
   ]
  },
  {
   "cell_type": "code",
   "execution_count": null,
   "metadata": {},
   "outputs": [],
   "source": [
    "# using myreduce function to sum the numbers in the list\n",
    "list1 = [1,2,3,4,5,6,7]\n",
    "myreduce(lambda x,y : x+y, list1)"
   ]
  },
  {
   "cell_type": "markdown",
   "metadata": {},
   "source": [
    "Problem 1.2:\n",
    "\n",
    "Write a Python program to implement your own myfilter() function which works exactly like Python's built-in function filter()"
   ]
  },
  {
   "cell_type": "code",
   "execution_count": null,
   "metadata": {},
   "outputs": [],
   "source": [
    "# Own filter funtion\n",
    "def myfilter(func,var):\n",
    "    return [i for i in var if func(i)]"
   ]
  },
  {
   "cell_type": "code",
   "execution_count": null,
   "metadata": {},
   "outputs": [],
   "source": [
    "# filter even numbers in a range(0,41) using lambda function\n",
    "num = 41\n",
    "list(myfilter(lambda x : x%2 == 0, range(num)))"
   ]
  },
  {
   "cell_type": "code",
   "execution_count": null,
   "metadata": {},
   "outputs": [],
   "source": [
    "# filter odd numbers in list using oddno function\n",
    "def oddno(n):\n",
    "    if n%2!=0:\n",
    "        return n\n",
    "numb_list = [2, 4, 6, 10, 21, 22,15]\n",
    "list(myfilter(oddno, numb))"
   ]
  },
  {
   "cell_type": "markdown",
   "metadata": {},
   "source": [
    "Problem-2:\n",
    "\n",
    "Implement List comprehensions to produce the following lists.\n",
    "Write List comprehensions to produce the following Lists\n",
    "\n",
    "['x', 'xx', 'xxx', 'xxxx', 'y', 'yy', 'yyy', 'yyyy', 'z', 'zz', 'zzz', 'zzzz']\n",
    "\n",
    "['x', 'y', 'z', 'xx', 'yy', 'zz', 'xxx', 'yyy', 'zzz', 'xxxx', 'yyyy', 'zzzz']\n",
    "\n",
    "[[2], [3], [4], [3], [4], [5], [4], [5], [6]] [[2, 3, 4, 5], [3, 4, 5, 6],\n",
    "[4, 5, 6, 7], [5, 6, 7, 8]]    # assuming a comma is missing at change in list pattern [6]], [[2, 3, 4, 5]\n",
    "\n",
    "[(1, 1), (2, 1), (3, 1), (1, 2), (2, 2), (3, 2), (1, 3), (2, 3), (3, 3)]"
   ]
  },
  {
   "cell_type": "code",
   "execution_count": null,
   "metadata": {},
   "outputs": [],
   "source": [
    "l = ['x','y','z']\n",
    "l1 = [l[i]*j for i in range(len(l)) if i < len(l)+1 for j in range(1,len(l)+2)] \n",
    "l1"
   ]
  },
  {
   "cell_type": "code",
   "execution_count": null,
   "metadata": {},
   "outputs": [],
   "source": [
    "l = ['x','y','z']\n",
    "l2 = [i*j for i in range(1,len(l)+2) for j in l] \n",
    "l2"
   ]
  },
  {
   "cell_type": "code",
   "execution_count": null,
   "metadata": {},
   "outputs": [],
   "source": [
    "n=3\n",
    "n1= [[i+j] for i in range(2,n+2) for j in range(n)]\n",
    "n2 =[[i+j for i in range(n+1)] for j in range(2,n+3)]\n",
    "[n1, n2]"
   ]
  },
  {
   "cell_type": "code",
   "execution_count": null,
   "metadata": {},
   "outputs": [],
   "source": [
    "n=3\n",
    "n3= [(j,i) for i in range(1,n+1) for j in range(1,n+1)]\n",
    "n3"
   ]
  }
 ],
 "metadata": {
  "kernelspec": {
   "display_name": "Python 3",
   "language": "python",
   "name": "python3"
  },
  "language_info": {
   "codemirror_mode": {
    "name": "ipython",
    "version": 3
   },
   "file_extension": ".py",
   "mimetype": "text/x-python",
   "name": "python",
   "nbconvert_exporter": "python",
   "pygments_lexer": "ipython3",
   "version": "3.8.5"
  }
 },
 "nbformat": 4,
 "nbformat_minor": 4
}
